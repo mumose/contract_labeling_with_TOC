{
 "cells": [
  {
   "cell_type": "markdown",
   "metadata": {},
   "source": [
    "## Import relevant files"
   ]
  },
  {
   "cell_type": "code",
   "execution_count": 1,
   "metadata": {},
   "outputs": [],
   "source": [
    "import sys\n",
    "import os\n",
    "sys.path.append(\"../doctr/\")\n",
    "from doctr.models import ocr_predictor\n",
    "from doctr.io import DocumentFile\n",
    "import json"
   ]
  },
  {
   "cell_type": "code",
   "execution_count": 2,
   "metadata": {},
   "outputs": [],
   "source": [
    "## CUAD dataset should exist in current working directory to run these\n",
    "\n",
    "sample_files = ['CUAD_v1/full_contract_pdf/Part_I/Development/HarpoonTherapeuticsInc_20200312_10-K_EX-10.18_12051356_EX-10.18_Development Agreement_Option Agreement.pdf',\n",
    "                'CUAD_v1/full_contract_pdf/Part_I/Distributor/ZogenixInc_20190509_10-Q_EX-10.2_11663313_EX-10.2_Distributor Agreement.pdf',\n",
    "                'CUAD_v1/full_contract_pdf/Part_I/Endorsement/PerformanceSportsBrandsInc_20110909_S-1_EX-10.10_7220214_EX-10.10_Endorsement Agreement.pdf',\n",
    "                'CUAD_v1/full_contract_pdf/Part_III/Marketing/NUVEEN - REMARKETING AGREEMENT.PDF',\n",
    "                'CUAD_v1/full_contract_pdf/Part_III/IP/OTISWORLDWIDECORP_04_03_2020-EX-10.4-INTELLECTUAL PROPERTY AGREEMENT by and among UNITED TECHNOLOGIES CORPORATION, OTIS WORLDWIDE CORPORATION and CARRIER ~1.PDF',\n",
    "                'CUAD_v1/full_contract_pdf/Part_I/Outsourcing/ParatekPharmaceuticalsInc_20170505_10-KA_EX-10.29_10323872_EX-10.29_Outsourcing Agreement.pdf']"
   ]
  },
  {
   "cell_type": "code",
   "execution_count": 3,
   "metadata": {},
   "outputs": [
    {
     "name": "stdout",
     "output_type": "stream",
     "text": [
      "Working on CUAD_v1/full_contract_pdf/Part_I/Development/HarpoonTherapeuticsInc_20200312_10-K_EX-10.18_12051356_EX-10.18_Development Agreement_Option Agreement.pdf\n"
     ]
    },
    {
     "name": "stderr",
     "output_type": "stream",
     "text": [
      "/home/pfi203/.local/lib/python3.8/site-packages/torch/nn/functional.py:718: UserWarning: Named tensors and all their associated APIs are an experimental feature and subject to change. Please do not use them for anything important until they are released as stable. (Triggered internally at  /pytorch/c10/core/TensorImpl.h:1156.)\n",
      "  return torch.max_pool2d(input, kernel_size, stride, padding, dilation, ceil_mode)\n"
     ]
    },
    {
     "name": "stdout",
     "output_type": "stream",
     "text": [
      "Wrote json_outputs/HarpoonTherapeuticsInc_20200312_10-K_EX-10.18_12051356_EX-10.18_Development Agreement_Option Agreement.json\n",
      "Working on CUAD_v1/full_contract_pdf/Part_I/Distributor/ZogenixInc_20190509_10-Q_EX-10.2_11663313_EX-10.2_Distributor Agreement.pdf\n",
      "Wrote json_outputs/ZogenixInc_20190509_10-Q_EX-10.2_11663313_EX-10.2_Distributor Agreement.json\n",
      "Working on CUAD_v1/full_contract_pdf/Part_I/Endorsement/PerformanceSportsBrandsInc_20110909_S-1_EX-10.10_7220214_EX-10.10_Endorsement Agreement.pdf\n",
      "Wrote json_outputs/PerformanceSportsBrandsInc_20110909_S-1_EX-10.10_7220214_EX-10.10_Endorsement Agreement.json\n",
      "Working on CUAD_v1/full_contract_pdf/Part_III/Marketing/NUVEEN - REMARKETING AGREEMENT.PDF\n",
      "Wrote json_outputs/NUVEEN - REMARKETING AGREEMENT.json\n",
      "Working on CUAD_v1/full_contract_pdf/Part_III/IP/OTISWORLDWIDECORP_04_03_2020-EX-10.4-INTELLECTUAL PROPERTY AGREEMENT by and among UNITED TECHNOLOGIES CORPORATION, OTIS WORLDWIDE CORPORATION and CARRIER ~1.PDF\n",
      "Wrote json_outputs/OTISWORLDWIDECORP_04_03_2020-EX-10.4-INTELLECTUAL PROPERTY AGREEMENT by and among UNITED TECHNOLOGIES CORPORATION, OTIS WORLDWIDE CORPORATION and CARRIER ~1.json\n",
      "Working on CUAD_v1/full_contract_pdf/Part_I/Outsourcing/ParatekPharmaceuticalsInc_20170505_10-KA_EX-10.29_10323872_EX-10.29_Outsourcing Agreement.pdf\n",
      "Wrote json_outputs/ParatekPharmaceuticalsInc_20170505_10-KA_EX-10.29_10323872_EX-10.29_Outsourcing Agreement.json\n"
     ]
    }
   ],
   "source": [
    "## using outputs folder in current working directory to store sample outputs\n",
    "outpath = \"json_outputs/\"\n",
    "\n",
    "for pdf_file in sample_files:\n",
    "    filename = pdf_file.split(\"/\")[-1][:-4]\n",
    "\n",
    "    print(f\"Working on {pdf_file}\")\n",
    "    model = ocr_predictor(det_arch='db_resnet50', reco_arch='crnn_vgg16_bn', pretrained=True)\n",
    "\n",
    "    doc = DocumentFile.from_pdf(pdf_file)\n",
    "\n",
    "    result = model(doc)\n",
    "\n",
    "    json_output = result.export()\n",
    "    \n",
    "    outfile = outpath + filename + \".json\"\n",
    "    \n",
    "    with open(outfile, 'w', encoding='utf-8') as f:\n",
    "        json.dump(json_output, f, ensure_ascii=False, indent=2)\n",
    "    print(f\"Wrote {outfile}\")"
   ]
  },
  {
   "cell_type": "code",
   "execution_count": null,
   "metadata": {},
   "outputs": [],
   "source": []
  }
 ],
 "metadata": {
  "kernelspec": {
   "display_name": "Python 3",
   "language": "python",
   "name": "python3"
  },
  "language_info": {
   "codemirror_mode": {
    "name": "ipython",
    "version": 3
   },
   "file_extension": ".py",
   "mimetype": "text/x-python",
   "name": "python",
   "nbconvert_exporter": "python",
   "pygments_lexer": "ipython3",
   "version": "3.8.6"
  }
 },
 "nbformat": 4,
 "nbformat_minor": 4
}
