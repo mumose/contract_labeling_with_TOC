{
 "cells": [
  {
   "cell_type": "code",
   "execution_count": 8,
   "id": "dd684350",
   "metadata": {},
   "outputs": [],
   "source": [
    "import re\n",
    "\n",
    "import torch\n",
    "\n",
    "from transformers import MarkupLMFeatureExtractor\n",
    "from transformers import AutoProcessor, AutoModelForSequenceClassification"
   ]
  },
  {
   "cell_type": "code",
   "execution_count": 9,
   "id": "f4f99b3c-ad05-45f1-8fc1-6e5eb139260b",
   "metadata": {},
   "outputs": [],
   "source": [
    "def filter_p_tags(node_xpath_pairs, max_length=30):\n",
    "    filtered_pairs = []\n",
    "    for idx, pair in enumerate(node_xpath_pairs):\n",
    "#         last_two_tags = \"/\".join(pair[1].rsplit(\"/\", 2)[1:])\n",
    "#         print(last_two_tags)\n",
    "#         if 'body' in last_two_tags and 'p' in last_two_tags and not 'table' in last_two_tags:\n",
    "        if 'body' in pair[1] and 'p' in pair[1] and not 'table' in pair[1]:\n",
    "            node_text = pair[0]\n",
    "            \n",
    "            if len(node_text.split()) <= max_length:\n",
    "                filtered_pairs.append((*pair, f\"idx={idx}\"))\n",
    "\n",
    "    return filtered_pairs\n",
    "\n",
    "\n",
    "def get_text_tag(node_xpath_pairs, text):\n",
    "    matches = []\n",
    "    for idx, pair in enumerate(node_xpath_pairs):\n",
    "        if re.search(fr\"{text}\", pair[0].lower()):\n",
    "            matches.append((*pair, f\"idx={idx}\"))\n",
    "\n",
    "    return matches\n",
    "\n",
    "def get_table_tags(node_xpath_pairs):\n",
    "    filtered_pairs = []\n",
    "    for idx, pair in enumerate(node_xpath_pairs):\n",
    "        last_five_tags = \"/\".join(pair[1].rsplit(\"/\", 5)[1:])\n",
    "        \n",
    "        if 'table' in last_five_tags:\n",
    "            filtered_pairs.append((*pair, f\"idx={idx}\"))\n",
    "\n",
    "    return filtered_pairs\n",
    "    \n",
    "\n",
    "\n",
    "def get_div_tags(node_xpath_pairs):\n",
    "    filtered_pairs = []\n",
    "    for idx, pair in enumerate(node_xpath_pairs):\n",
    "        last_five_tags = \"/\".join(pair[1].rsplit(\"/\", 5)[1:])\n",
    "        \n",
    "        if 'div' in last_five_tags:\n",
    "            filtered_pairs.append((*pair, f\"idx={idx}\"))\n",
    "\n",
    "    return filtered_pairs\n"
   ]
  },
  {
   "cell_type": "code",
   "execution_count": 10,
   "id": "2fa9689c-e12e-452a-b640-b863f44a64c3",
   "metadata": {},
   "outputs": [],
   "source": [
    "# Sukrit's input\n",
    "\n",
    "# input_html_filelist = [\n",
    "#     \"/Users/sukritrao/Documents/NYU/Coursework/Spring2023/Independent-Study/project/playground/alaska_project8.htm\",\n",
    "#     \"/Users/sukritrao/Documents/NYU/Coursework/Spring2023/Independent-Study/project/playground/Community Bankers Trust Corporation_United Bankshares, Inc.htm\",\n",
    "#     \"/Users/sukritrao/Documents/NYU/Coursework/Spring2023/Independent-Study/project/playground/County Bancorp, Inc._Nicolet Bankshares, Inc.html\",\n",
    "#     \"/Users/sukritrao/Documents/NYU/Coursework/Spring2023/Independent-Study/project/playground/Perspecta Inc._Veritas Capital.htm\",\n",
    "#     \"/Users/sukritrao/Documents/NYU/Coursework/Spring2023/Independent-Study/project/playground/MTS Systems Corporation_Amphenol Corporation.htm\",\n",
    "#     \"/Users/sukritrao/Documents/NYU/Coursework/Spring2023/Independent-Study/project/playground/Select_Bancorp_Inc_First_Bancorp.htm\"\n",
    "# ]"
   ]
  },
  {
   "cell_type": "code",
   "execution_count": 11,
   "id": "29263e55-3aab-4b94-bb95-c3ba9bb177ef",
   "metadata": {},
   "outputs": [],
   "source": [
    "# Rohith's input\n",
    "\n",
    "input_html_filelist = ['./alaska_project8.htm', \n",
    "                       './glacier_altabancorp.html', \n",
    "                       './open_zix.html', \n",
    "                       './california_pacific.html', \n",
    "                       './ready_anworth.htm']"
   ]
  },
  {
   "cell_type": "code",
   "execution_count": 95,
   "id": "35f57f64-0182-4570-a511-32d2ad862133",
   "metadata": {},
   "outputs": [
    {
     "name": "stdout",
     "output_type": "stream",
     "text": [
      "Using device: cpu\n"
     ]
    }
   ],
   "source": []
  },
  {
   "cell_type": "code",
   "execution_count": null,
   "id": "eef686e8-0f1c-4c30-919b-71c70f2ecbb7",
   "metadata": {},
   "outputs": [],
   "source": []
  },
  {
   "cell_type": "code",
   "execution_count": null,
   "id": "534f3b45-090d-4f2a-8bed-8c801f9c928d",
   "metadata": {},
   "outputs": [],
   "source": []
  },
  {
   "cell_type": "code",
   "execution_count": null,
   "id": "02109737",
   "metadata": {},
   "outputs": [],
   "source": []
  },
  {
   "cell_type": "code",
   "execution_count": 123,
   "id": "26dc5818",
   "metadata": {},
   "outputs": [
    {
     "name": "stdout",
     "output_type": "stream",
     "text": [
      "Using device: cpu\n"
     ]
    }
   ],
   "source": [
    "file_idx = 0\n",
    "input_html = input_html_filelist[file_idx]\n",
    "with open(input_html) as f:\n",
    "    html_code = f.read()\n",
    "    \n",
    "device = torch.device('cuda' if torch.cuda.is_available() else 'cpu')\n",
    "print('Using device:', device)\n",
    "\n",
    "feature_extractor = MarkupLMFeatureExtractor()\n",
    "encoding = feature_extractor(html_code)"
   ]
  },
  {
   "cell_type": "code",
   "execution_count": 133,
   "id": "fbf55bb4-e2c8-43fc-a55d-87a1fca7a8c9",
   "metadata": {},
   "outputs": [
    {
     "name": "stdout",
     "output_type": "stream",
     "text": [
      "###################################################\n",
      "13\n",
      "Possible START at Node 13:  TABLE OF CONTENTS ['filename', 'description', 'text', 'html', 'body', 'p[18]', 'b']\n",
      "345\n",
      "Possible END at Node 345:  AGREEMENT AND PLAN OF MERGER ['filename', 'description', 'text', 'html', 'body', 'p[33]', 'b']\n",
      "###################################################\n"
     ]
    }
   ],
   "source": [
    "start_node_idx = 0\n",
    "end_node_idx = 400\n",
    "\n",
    "nodes = encoding['nodes'][0][start_node_idx:end_node_idx]\n",
    "xpaths = encoding['xpaths'][0][start_node_idx:end_node_idx]\n",
    "important_nodes = []\n",
    "possible_text_starts = ['TABLE OF CONTENTS', 'TOC', 'TABLE OF CONTENT']\n",
    "possible_text_ends = ['AGREEMENT AND PLAN OF MERGER', 'PLAN AND AGREEMENT OF MERGER', 'AGREEMENT AND PLAN OF REORGANIZATION']\n",
    "possible_xpath_starts = ['table', 'table[1]', 'table[2]', 'table[3]'] # Modify code to allow for any number of tables before end value\n",
    "possible_xpath_ends = []\n",
    "text_types = ['section_title', 'paragraph', 'table', 'other']\n",
    "\n",
    "def table_in_xpath(xpath):\n",
    "    S1, S2 = set(possible_xpath_starts), set(xpath)\n",
    "    return len(S1.intersection(S2)) > 0\n",
    "\n",
    "\n",
    "print(\"###################################################\")\n",
    "started = False\n",
    "ended = False\n",
    "xpath_lists = [path.split('/')[-7:] for path in xpaths]\n",
    "start = [0, '', '']\n",
    "end = [0, '', '']\n",
    "section_titles = []\n",
    "for i in range(len(xpath_lists)):\n",
    "    text = nodes[i].strip()\n",
    "    xpath_list = xpath_lists[i]\n",
    "    xpath_str = xpaths[i]\n",
    "\n",
    "    if not started:\n",
    "        if (text in possible_text_starts) or table_in_xpath(xpath_list): \n",
    "            print(i)\n",
    "            print(f'Possible START at Node {i}: ', text, xpath_list)\n",
    "            started = True\n",
    "            start = [i, text, xpath_list]\n",
    "\n",
    "    elif started and not ended:\n",
    "\n",
    "#         if 'table' in xpath_list:\n",
    "#             print(nodes[i], xpath_lists[i])\n",
    "        if (text in possible_text_ends):\n",
    "            print(i)\n",
    "            print(f'Possible END at Node {i}: ', text, xpath_list)\n",
    "            ended = True\n",
    "            end = [i, text, xpath_list]\n",
    "            \n",
    "    \n",
    "print(\"###################################################\")\n",
    "\n"
   ]
  },
  {
   "cell_type": "code",
   "execution_count": 138,
   "id": "d86e727b-edea-42f1-a9ea-65753344f177",
   "metadata": {},
   "outputs": [
    {
     "data": {
      "text/plain": [
       "[13,\n",
       " 'TABLE OF CONTENTS',\n",
       " ['filename', 'description', 'text', 'html', 'body', 'p[18]', 'b']]"
      ]
     },
     "execution_count": 138,
     "metadata": {},
     "output_type": "execute_result"
    }
   ],
   "source": [
    "start"
   ]
  },
  {
   "cell_type": "code",
   "execution_count": 139,
   "id": "e08f08fd-43fd-438c-bdb0-5eb6f0cd78d4",
   "metadata": {},
   "outputs": [],
   "source": [
    "# Extracts all paths and nodes within TOC boundaries\n",
    "toc_paths = xpaths[start[0] + (0 if 'table' in start[2] else 1):end[0]-1]\n",
    "toc_nodes = nodes[start[0] + 1:end[0]-1]"
   ]
  },
  {
   "cell_type": "code",
   "execution_count": 140,
   "id": "2ed3ecbd-99f4-44e2-8fef-121f4a1eb5bc",
   "metadata": {},
   "outputs": [
    {
     "data": {
      "text/plain": [
       "['/document/type/sequence/filename/description/text/html/body/table[1]/tr[3]/td[1]/p/b',\n",
       " '/document/type/sequence/filename/description/text/html/body/table[1]/tr[3]/td[1]/p',\n",
       " '/document/type/sequence/filename/description/text/html/body/table[1]/tr[3]/td[2]/p',\n",
       " '/document/type/sequence/filename/description/text/html/body/table[1]/tr[4]/td[1]/p',\n",
       " '/document/type/sequence/filename/description/text/html/body/table[1]/tr[4]/td[2]/p',\n",
       " '/document/type/sequence/filename/description/text/html/body/table[1]/tr[4]/td[3]/p',\n",
       " '/document/type/sequence/filename/description/text/html/body/table[1]/tr[5]/td[1]/p',\n",
       " '/document/type/sequence/filename/description/text/html/body/table[1]/tr[5]/td[2]/p',\n",
       " '/document/type/sequence/filename/description/text/html/body/table[1]/tr[5]/td[3]/p']"
      ]
     },
     "execution_count": 140,
     "metadata": {},
     "output_type": "execute_result"
    }
   ],
   "source": [
    "toc_paths[1:10]"
   ]
  },
  {
   "cell_type": "code",
   "execution_count": null,
   "id": "eef661c6-e620-441c-b7e2-2e2158533e86",
   "metadata": {},
   "outputs": [],
   "source": []
  },
  {
   "cell_type": "code",
   "execution_count": 141,
   "id": "838dbd9a-5ff1-4e86-b447-22feb07c1637",
   "metadata": {},
   "outputs": [
    {
     "data": {
      "text/plain": [
       "['tr[1]/td[3]/b',\n",
       " 'tr[3]/td[1]/p/b',\n",
       " 'tr[3]/td[1]/p',\n",
       " 'tr[3]/td[2]/p',\n",
       " 'tr[4]/td[1]/p']"
      ]
     },
     "execution_count": 141,
     "metadata": {},
     "output_type": "execute_result"
    }
   ],
   "source": [
    "# Using regex to find table tag and splitting on the table tag\n",
    "\n",
    "# Change index() to find() if exceptions become an issue\n",
    "# TODO: Automate finding table tag instead of hardcoding for indexing\n",
    "reg_str = r'table(\\[[0-9]+\\])?'\n",
    "table_end_idx = re.search(reg_str, toc_paths[0]).span()[1] + 1\n",
    "TOC_root_str = toc_paths[0][:table_end_idx]\n",
    "\n",
    "shortened_toc_paths = [path[table_end_idx:] for path in toc_paths]\n",
    "shortened_toc_paths[:5]\n",
    "# group_list = [path.index('1') for path in shortened_toc_paths]\n",
    "# group_list[:5]\n",
    "\n",
    "\n",
    "# After extracting TOC, then use get_text_tag to match to section title in document"
   ]
  },
  {
   "cell_type": "markdown",
   "id": "065133cc-b364-4f7a-8390-79fa547edc73",
   "metadata": {},
   "source": [
    "Main idea for classifying text into our (currently 4) labels: section titles, paragraphs, tables, or other. The code first detects the boundaries of the TOC for future reference in identifying section titles. \n",
    "\n",
    "#### TOC Extraction\n",
    "Here we extract out each section title. We can conveniently group by the tr, or table row, xpath value to get each line in the TOC. We then split and join based on the td, data cell, tag to get the full section title and corresponding page number. We can use this page number when finding the section titles.\n",
    "\n",
    "#### Section Titles\n",
    "We first run through lines of the merger and detect or group by(pd groupby?) those elements which are in the same p tag, or div tag. If the lines grouped together match a section title which we extracted from the TOC, then it can be considered a label for the title.\n",
    "\n",
    "#### Paragraph Tags\n",
    "We follow the same grouping procedure as for titles. We know each title should theoretically have corresponding paragraphs. We locate each section title and track all text in p tags underneath as a paragraph until the next section title.\n",
    " \n"
   ]
  },
  {
   "cell_type": "code",
   "execution_count": 65,
   "id": "ba90e68e-0417-4b96-b868-be76d08b0b40",
   "metadata": {},
   "outputs": [
    {
     "data": {
      "text/plain": [
       "['/document/type/sequence/filename/description/text/html/body/table[1]/tr[1]/td[3]/b',\n",
       " '/document/type/sequence/filename/description/text/html/body/table[1]/tr[3]/td[1]/p/b',\n",
       " '/document/type/sequence/filename/description/text/html/body/table[1]/tr[3]/td[1]/p',\n",
       " '/document/type/sequence/filename/description/text/html/body/table[1]/tr[3]/td[2]/p',\n",
       " '/document/type/sequence/filename/description/text/html/body/table[1]/tr[4]/td[1]/p',\n",
       " '/document/type/sequence/filename/description/text/html/body/table[1]/tr[4]/td[2]/p',\n",
       " '/document/type/sequence/filename/description/text/html/body/table[1]/tr[4]/td[3]/p',\n",
       " '/document/type/sequence/filename/description/text/html/body/table[1]/tr[5]/td[1]/p',\n",
       " '/document/type/sequence/filename/description/text/html/body/table[1]/tr[5]/td[2]/p',\n",
       " '/document/type/sequence/filename/description/text/html/body/table[1]/tr[5]/td[3]/p',\n",
       " '/document/type/sequence/filename/description/text/html/body/table[1]/tr[6]/td[1]/p/b',\n",
       " '/document/type/sequence/filename/description/text/html/body/table[1]/tr[6]/td[1]/p',\n",
       " '/document/type/sequence/filename/description/text/html/body/table[1]/tr[6]/td[2]/p',\n",
       " '/document/type/sequence/filename/description/text/html/body/table[1]/tr[7]/td[1]/p',\n",
       " '/document/type/sequence/filename/description/text/html/body/table[1]/tr[7]/td[2]/p',\n",
       " '/document/type/sequence/filename/description/text/html/body/table[1]/tr[7]/td[3]/p',\n",
       " '/document/type/sequence/filename/description/text/html/body/table[1]/tr[8]/td[1]/p',\n",
       " '/document/type/sequence/filename/description/text/html/body/table[1]/tr[8]/td[2]/p',\n",
       " '/document/type/sequence/filename/description/text/html/body/table[1]/tr[8]/td[3]/p',\n",
       " '/document/type/sequence/filename/description/text/html/body/table[1]/tr[9]/td[1]/p']"
      ]
     },
     "execution_count": 65,
     "metadata": {},
     "output_type": "execute_result"
    }
   ],
   "source": [
    "# TOC Extraction\n",
    "\n",
    "xpaths[14:34]"
   ]
  },
  {
   "cell_type": "code",
   "execution_count": 129,
   "id": "f545773f-e5d9-4cb1-8fa7-34f078431941",
   "metadata": {},
   "outputs": [],
   "source": [
    "nodes = encoding['nodes'][0]\n",
    "xpaths = encoding['xpaths'][0]\n",
    "\n",
    "# cropped_xpaths = [\"/\".join(x.rsplit(\"/\", 5)[1:]) for x in xpaths]\n",
    "\n",
    "# node_xpath_pairs = list(zip(nodes, cropped_xpaths))\n",
    "node_xpath_pairs = list(zip(nodes, xpaths))"
   ]
  },
  {
   "cell_type": "code",
   "execution_count": 131,
   "id": "05c66692-56b5-4868-bed6-a92c4c0e20c1",
   "metadata": {},
   "outputs": [
    {
     "name": "stdout",
     "output_type": "stream",
     "text": [
      "('ARTICLE 1', '/document/type/sequence/filename/description/text/html/body/p[47]/b') \n",
      "\n",
      "('DEFINITIONS', '/document/type/sequence/filename/description/text/html/body/p[47]') \n",
      "\n",
      "('Section 1.01', '/document/type/sequence/filename/description/text/html/body/p[49]') \n",
      "\n",
      "('Definitions', '/document/type/sequence/filename/description/text/html/body/p[49]/u') \n",
      "\n",
      "('.', '/document/type/sequence/filename/description/text/html/body/p[49]') \n",
      "\n",
      "('(a)\\xa0\\xa0\\xa0\\xa0As used herein, the following terms have the following meanings:', '/document/type/sequence/filename/description/text/html/body/p[51]') \n",
      "\n"
     ]
    }
   ],
   "source": [
    "for x in node_xpath_pairs[376:382]:\n",
    "    print(x, '\\n')"
   ]
  },
  {
   "cell_type": "code",
   "execution_count": null,
   "id": "a12ed083-7dbd-4c3b-8aea-dc083ec365e4",
   "metadata": {},
   "outputs": [],
   "source": [
    "# Create function for merging mutiple xpath node pairs in a list"
   ]
  },
  {
   "cell_type": "code",
   "execution_count": 21,
   "id": "75730ca5-d903-47c5-a77c-f13e0d711dec",
   "metadata": {},
   "outputs": [],
   "source": [
    "filtered_p_tags = filter_p_tags(node_xpath_pairs)\n",
    "# filtered_p_tags[2305]"
   ]
  },
  {
   "cell_type": "code",
   "execution_count": null,
   "id": "c6fa3cfb-2cc3-4047-838f-6b9c4d6bae36",
   "metadata": {},
   "outputs": [],
   "source": []
  },
  {
   "cell_type": "markdown",
   "id": "97353435-c159-4770-b898-6b54e8cb8b83",
   "metadata": {},
   "source": [
    "# Alaska Project \n",
    "\n",
    "## Section Title\n",
    "\"the following terms have the following meanings\", 379\n",
    "\n",
    "\n",
    "## Signature Page\n",
    "\n",
    "in witness whereof, 2305\n",
    "\n",
    "## Table of Contents\n",
    "\n",
    "table of contents 13"
   ]
  },
  {
   "cell_type": "markdown",
   "id": "b91f2e8c-b4c0-41b9-9d92-6b775a1a2d77",
   "metadata": {},
   "source": [
    "# Community Bankers\n",
    "\n",
    "## Section Title\n",
    "\n",
    "\"following terms are used in this agreement\" 247\n",
    "\n",
    "\n",
    "### Signature\n",
    "\n",
    "in witness, 1701"
   ]
  },
  {
   "cell_type": "markdown",
   "id": "4f06198d-84ee-466a-908c-36657be1cdf8",
   "metadata": {},
   "source": [
    "# Perspecta\n",
    "\n",
    "### Section Title\n",
    "the following terms have the meanings set forth, 349\n",
    "\n",
    "\n",
    "### Signature \n",
    "\n",
    "in witness whereof, 2809"
   ]
  },
  {
   "cell_type": "code",
   "execution_count": 91,
   "id": "c47c37d6-c515-42cf-a428-f80beae50c5b",
   "metadata": {
    "tags": []
   },
   "outputs": [],
   "source": [
    "# get_text_tag(filtered_p_tags, 'section')\n",
    "# get_text_tag(get_div_tags(node_xpath_pairs), '1')"
   ]
  },
  {
   "cell_type": "code",
   "execution_count": 62,
   "id": "2e705722-68b9-48c9-8bd7-226189b734dc",
   "metadata": {
    "tags": []
   },
   "outputs": [
    {
     "data": {
      "text/plain": [
       "[('IN WITNESS WHEREOF',\n",
       "  '/document/type/sequence/filename/description/text/html/body/p/p/p/p/p/p/p/p/p/p/p/p/p/p/p/p/p/p/p/p/p/p/p/p/p/p/p/p/p/p/p/p/p/p/p/p/p/p/p/p/p/p/p/p/p/p/p/p/p/p/p/p/p/p/p/p/p/p/p/p/p/p/p/p/p/center/div/p[1]/b',\n",
       "  'idx=1701'),\n",
       " ('IN WITNESS WHEREOF, Essex Bank and United Bank have each caused this Agreement and Plan of\\nMerger to be executed as of the date first above written.',\n",
       "  '/document/type/sequence/filename/description/text/html/body/p/p/p/p/p/p/p/p/p/p/p/p/p/p/p/p/p/p/p/p/p/p/p/p/p/p/p/p/p/p/p/p/p/p/p/p/p/p/p/p/p/p/p/p/p/p/p/p/p/p/p/p/p/p/p/p/p/p/p/p/p/p/p/p/p/p/p/p/p/p/p/p/p/p/p/p/p/p/center/div/p[1]',\n",
       "  'idx=2059'),\n",
       " ('IN WITNESS WHEREOF, the parties hereto have caused this Agreement to be executed as of the\\nday first above written.',\n",
       "  '/document/type/sequence/filename/description/text/html/body/p/p/p/p/p/p/p/p/p/p/p/p/p/p/p/p/p/p/p/p/p/p/p/p/p/p/p/p/p/p/p/p/p/p/p/p/p/p/p/p/p/p/p/p/p/p/p/p/p/p/p/p/p/p/p/p/p/p/p/p/p/p/p/p/p/p/p/p/p/p/p/p/p/p/p/p/p/p/p/p/p/p/p/p/p/p/center/div/p[1]',\n",
       "  'idx=2223')]"
      ]
     },
     "execution_count": 62,
     "metadata": {},
     "output_type": "execute_result"
    }
   ],
   "source": [
    "get_text_tag(node_xpath_pairs, \"in witness\")"
   ]
  },
  {
   "cell_type": "code",
   "execution_count": 92,
   "id": "e8d3d0e2-68e1-47cf-8539-2677ba818ada",
   "metadata": {},
   "outputs": [
    {
     "data": {
      "text/plain": [
       "[('DEFINITIONS',\n",
       "  '/document/type/sequence/filename/description/text/html/body/p[47]'),\n",
       " ('Section 1.01',\n",
       "  '/document/type/sequence/filename/description/text/html/body/p[49]'),\n",
       " ('Definitions',\n",
       "  '/document/type/sequence/filename/description/text/html/body/p[49]/u'),\n",
       " ('.', '/document/type/sequence/filename/description/text/html/body/p[49]'),\n",
       " ('(a)\\xa0\\xa0\\xa0\\xa0As used herein, the following terms have the following meanings:',\n",
       "  '/document/type/sequence/filename/description/text/html/body/p[51]'),\n",
       " ('“2018 Cash Award',\n",
       "  '/document/type/sequence/filename/description/text/html/body/p[54]/b'),\n",
       " ('s” means the cash awards granted to certain employees of the Company in 2018 in lieu of any Company RSU Awards or Company PSU Awards for 2018.',\n",
       "  '/document/type/sequence/filename/description/text/html/body/p[54]'),\n",
       " ('“Acceptable Confidentiality Agreement',\n",
       "  '/document/type/sequence/filename/description/text/html/body/p[56]/b'),\n",
       " ('” means a confidentiality agreement (i) containing terms not materially less restrictive in the aggregate to the counterparty thereto than the terms of the Confidentiality Agreement (including with regard to any standstill obligations), and (ii) that does not restrict the Company or its Representatives from providing the information or access required to be provided to Parent pursuant to',\n",
       "  '/document/type/sequence/filename/description/text/html/body/p[56]'),\n",
       " ('Section 6.02',\n",
       "  '/document/type/sequence/filename/description/text/html/body/p[56]/u[1]'),\n",
       " ('and', '/document/type/sequence/filename/description/text/html/body/p[56]'),\n",
       " ('Section 6.03',\n",
       "  '/document/type/sequence/filename/description/text/html/body/p[56]/u[2]')]"
      ]
     },
     "execution_count": 92,
     "metadata": {},
     "output_type": "execute_result"
    }
   ],
   "source": [
    "node_idx = 379\n",
    "node_xpath_pairs[node_idx - 2 : node_idx + 10]"
   ]
  },
  {
   "cell_type": "code",
   "execution_count": null,
   "id": "1b6a703a-60d8-4113-9903-69931d03cc7f",
   "metadata": {},
   "outputs": [],
   "source": []
  },
  {
   "cell_type": "code",
   "execution_count": null,
   "id": "4de0d136-b286-410c-9803-38de365ca6f8",
   "metadata": {},
   "outputs": [],
   "source": []
  },
  {
   "cell_type": "code",
   "execution_count": null,
   "id": "be9c0198-5bbc-4464-a7d2-d9ab483720ae",
   "metadata": {},
   "outputs": [],
   "source": []
  },
  {
   "cell_type": "code",
   "execution_count": null,
   "id": "fa3d3db5-3a3b-4f92-95d5-c8fb6a6d2072",
   "metadata": {},
   "outputs": [],
   "source": []
  },
  {
   "cell_type": "markdown",
   "id": "31809d5a-b00a-4fae-90d5-fb8c35135e75",
   "metadata": {},
   "source": [
    "## DJANGO"
   ]
  },
  {
   "cell_type": "code",
   "execution_count": 9,
   "id": "7b490e47-cddc-4237-9ee4-6306e421e354",
   "metadata": {},
   "outputs": [
    {
     "ename": "AttributeError",
     "evalue": "'list' object has no attribute 'TEMPLATES'",
     "output_type": "error",
     "traceback": [
      "\u001b[0;31m---------------------------------------------------------------------------\u001b[0m",
      "\u001b[0;31mAttributeError\u001b[0m                            Traceback (most recent call last)",
      "\u001b[0;32m<ipython-input-9-8f46b302ed97>\u001b[0m in \u001b[0;36m<module>\u001b[0;34m\u001b[0m\n\u001b[1;32m     28\u001b[0m \"\"\"\n\u001b[1;32m     29\u001b[0m \u001b[0;34m\u001b[0m\u001b[0m\n\u001b[0;32m---> 30\u001b[0;31m \u001b[0mt\u001b[0m \u001b[0;34m=\u001b[0m \u001b[0mTemplate\u001b[0m\u001b[0;34m(\u001b[0m\u001b[0mtemplate\u001b[0m\u001b[0;34m)\u001b[0m\u001b[0;34m\u001b[0m\u001b[0;34m\u001b[0m\u001b[0m\n\u001b[0m\u001b[1;32m     31\u001b[0m c = Context({\"title\": \"title from code\",\n\u001b[1;32m     32\u001b[0m              \"mystring\":\"string from code\"})\n",
      "\u001b[0;32m~/opt/anaconda3/lib/python3.8/site-packages/django/template/base.py\u001b[0m in \u001b[0;36m__init__\u001b[0;34m(self, template_string, origin, name, engine)\u001b[0m\n\u001b[1;32m    145\u001b[0m             \u001b[0;32mfrom\u001b[0m \u001b[0;34m.\u001b[0m\u001b[0mengine\u001b[0m \u001b[0;32mimport\u001b[0m \u001b[0mEngine\u001b[0m\u001b[0;34m\u001b[0m\u001b[0;34m\u001b[0m\u001b[0m\n\u001b[1;32m    146\u001b[0m \u001b[0;34m\u001b[0m\u001b[0m\n\u001b[0;32m--> 147\u001b[0;31m             \u001b[0mengine\u001b[0m \u001b[0;34m=\u001b[0m \u001b[0mEngine\u001b[0m\u001b[0;34m.\u001b[0m\u001b[0mget_default\u001b[0m\u001b[0;34m(\u001b[0m\u001b[0;34m)\u001b[0m\u001b[0;34m\u001b[0m\u001b[0;34m\u001b[0m\u001b[0m\n\u001b[0m\u001b[1;32m    148\u001b[0m         \u001b[0;32mif\u001b[0m \u001b[0morigin\u001b[0m \u001b[0;32mis\u001b[0m \u001b[0;32mNone\u001b[0m\u001b[0;34m:\u001b[0m\u001b[0;34m\u001b[0m\u001b[0;34m\u001b[0m\u001b[0m\n\u001b[1;32m    149\u001b[0m             \u001b[0morigin\u001b[0m \u001b[0;34m=\u001b[0m \u001b[0mOrigin\u001b[0m\u001b[0;34m(\u001b[0m\u001b[0mUNKNOWN_SOURCE\u001b[0m\u001b[0;34m)\u001b[0m\u001b[0;34m\u001b[0m\u001b[0;34m\u001b[0m\u001b[0m\n",
      "\u001b[0;32m~/opt/anaconda3/lib/python3.8/site-packages/django/template/engine.py\u001b[0m in \u001b[0;36mget_default\u001b[0;34m()\u001b[0m\n\u001b[1;32m    105\u001b[0m         \u001b[0;32mfrom\u001b[0m \u001b[0mdjango\u001b[0m\u001b[0;34m.\u001b[0m\u001b[0mtemplate\u001b[0m\u001b[0;34m.\u001b[0m\u001b[0mbackends\u001b[0m\u001b[0;34m.\u001b[0m\u001b[0mdjango\u001b[0m \u001b[0;32mimport\u001b[0m \u001b[0mDjangoTemplates\u001b[0m\u001b[0;34m\u001b[0m\u001b[0;34m\u001b[0m\u001b[0m\n\u001b[1;32m    106\u001b[0m \u001b[0;34m\u001b[0m\u001b[0m\n\u001b[0;32m--> 107\u001b[0;31m         \u001b[0;32mfor\u001b[0m \u001b[0mengine\u001b[0m \u001b[0;32min\u001b[0m \u001b[0mengines\u001b[0m\u001b[0;34m.\u001b[0m\u001b[0mall\u001b[0m\u001b[0;34m(\u001b[0m\u001b[0;34m)\u001b[0m\u001b[0;34m:\u001b[0m\u001b[0;34m\u001b[0m\u001b[0;34m\u001b[0m\u001b[0m\n\u001b[0m\u001b[1;32m    108\u001b[0m             \u001b[0;32mif\u001b[0m \u001b[0misinstance\u001b[0m\u001b[0;34m(\u001b[0m\u001b[0mengine\u001b[0m\u001b[0;34m,\u001b[0m \u001b[0mDjangoTemplates\u001b[0m\u001b[0;34m)\u001b[0m\u001b[0;34m:\u001b[0m\u001b[0;34m\u001b[0m\u001b[0;34m\u001b[0m\u001b[0m\n\u001b[1;32m    109\u001b[0m                 \u001b[0;32mreturn\u001b[0m \u001b[0mengine\u001b[0m\u001b[0;34m.\u001b[0m\u001b[0mengine\u001b[0m\u001b[0;34m\u001b[0m\u001b[0;34m\u001b[0m\u001b[0m\n",
      "\u001b[0;32m~/opt/anaconda3/lib/python3.8/site-packages/django/template/utils.py\u001b[0m in \u001b[0;36mall\u001b[0;34m(self)\u001b[0m\n\u001b[1;32m     92\u001b[0m \u001b[0;34m\u001b[0m\u001b[0m\n\u001b[1;32m     93\u001b[0m     \u001b[0;32mdef\u001b[0m \u001b[0mall\u001b[0m\u001b[0;34m(\u001b[0m\u001b[0mself\u001b[0m\u001b[0;34m)\u001b[0m\u001b[0;34m:\u001b[0m\u001b[0;34m\u001b[0m\u001b[0;34m\u001b[0m\u001b[0m\n\u001b[0;32m---> 94\u001b[0;31m         \u001b[0;32mreturn\u001b[0m \u001b[0;34m[\u001b[0m\u001b[0mself\u001b[0m\u001b[0;34m[\u001b[0m\u001b[0malias\u001b[0m\u001b[0;34m]\u001b[0m \u001b[0;32mfor\u001b[0m \u001b[0malias\u001b[0m \u001b[0;32min\u001b[0m \u001b[0mself\u001b[0m\u001b[0;34m]\u001b[0m\u001b[0;34m\u001b[0m\u001b[0;34m\u001b[0m\u001b[0m\n\u001b[0m\u001b[1;32m     95\u001b[0m \u001b[0;34m\u001b[0m\u001b[0m\n\u001b[1;32m     96\u001b[0m \u001b[0;34m\u001b[0m\u001b[0m\n",
      "\u001b[0;32m~/opt/anaconda3/lib/python3.8/site-packages/django/template/utils.py\u001b[0m in \u001b[0;36m__iter__\u001b[0;34m(self)\u001b[0m\n\u001b[1;32m     89\u001b[0m \u001b[0;34m\u001b[0m\u001b[0m\n\u001b[1;32m     90\u001b[0m     \u001b[0;32mdef\u001b[0m \u001b[0m__iter__\u001b[0m\u001b[0;34m(\u001b[0m\u001b[0mself\u001b[0m\u001b[0;34m)\u001b[0m\u001b[0;34m:\u001b[0m\u001b[0;34m\u001b[0m\u001b[0;34m\u001b[0m\u001b[0m\n\u001b[0;32m---> 91\u001b[0;31m         \u001b[0;32mreturn\u001b[0m \u001b[0miter\u001b[0m\u001b[0;34m(\u001b[0m\u001b[0mself\u001b[0m\u001b[0;34m.\u001b[0m\u001b[0mtemplates\u001b[0m\u001b[0;34m)\u001b[0m\u001b[0;34m\u001b[0m\u001b[0;34m\u001b[0m\u001b[0m\n\u001b[0m\u001b[1;32m     92\u001b[0m \u001b[0;34m\u001b[0m\u001b[0m\n\u001b[1;32m     93\u001b[0m     \u001b[0;32mdef\u001b[0m \u001b[0mall\u001b[0m\u001b[0;34m(\u001b[0m\u001b[0mself\u001b[0m\u001b[0;34m)\u001b[0m\u001b[0;34m:\u001b[0m\u001b[0;34m\u001b[0m\u001b[0;34m\u001b[0m\u001b[0m\n",
      "\u001b[0;32m~/opt/anaconda3/lib/python3.8/site-packages/django/utils/functional.py\u001b[0m in \u001b[0;36m__get__\u001b[0;34m(self, instance, cls)\u001b[0m\n\u001b[1;32m     55\u001b[0m         \u001b[0;32mif\u001b[0m \u001b[0minstance\u001b[0m \u001b[0;32mis\u001b[0m \u001b[0;32mNone\u001b[0m\u001b[0;34m:\u001b[0m\u001b[0;34m\u001b[0m\u001b[0;34m\u001b[0m\u001b[0m\n\u001b[1;32m     56\u001b[0m             \u001b[0;32mreturn\u001b[0m \u001b[0mself\u001b[0m\u001b[0;34m\u001b[0m\u001b[0;34m\u001b[0m\u001b[0m\n\u001b[0;32m---> 57\u001b[0;31m         \u001b[0mres\u001b[0m \u001b[0;34m=\u001b[0m \u001b[0minstance\u001b[0m\u001b[0;34m.\u001b[0m\u001b[0m__dict__\u001b[0m\u001b[0;34m[\u001b[0m\u001b[0mself\u001b[0m\u001b[0;34m.\u001b[0m\u001b[0mname\u001b[0m\u001b[0;34m]\u001b[0m \u001b[0;34m=\u001b[0m \u001b[0mself\u001b[0m\u001b[0;34m.\u001b[0m\u001b[0mfunc\u001b[0m\u001b[0;34m(\u001b[0m\u001b[0minstance\u001b[0m\u001b[0;34m)\u001b[0m\u001b[0;34m\u001b[0m\u001b[0;34m\u001b[0m\u001b[0m\n\u001b[0m\u001b[1;32m     58\u001b[0m         \u001b[0;32mreturn\u001b[0m \u001b[0mres\u001b[0m\u001b[0;34m\u001b[0m\u001b[0;34m\u001b[0m\u001b[0m\n\u001b[1;32m     59\u001b[0m \u001b[0;34m\u001b[0m\u001b[0m\n",
      "\u001b[0;32m~/opt/anaconda3/lib/python3.8/site-packages/django/template/utils.py\u001b[0m in \u001b[0;36mtemplates\u001b[0;34m(self)\u001b[0m\n\u001b[1;32m     26\u001b[0m     \u001b[0;32mdef\u001b[0m \u001b[0mtemplates\u001b[0m\u001b[0;34m(\u001b[0m\u001b[0mself\u001b[0m\u001b[0;34m)\u001b[0m\u001b[0;34m:\u001b[0m\u001b[0;34m\u001b[0m\u001b[0;34m\u001b[0m\u001b[0m\n\u001b[1;32m     27\u001b[0m         \u001b[0;32mif\u001b[0m \u001b[0mself\u001b[0m\u001b[0;34m.\u001b[0m\u001b[0m_templates\u001b[0m \u001b[0;32mis\u001b[0m \u001b[0;32mNone\u001b[0m\u001b[0;34m:\u001b[0m\u001b[0;34m\u001b[0m\u001b[0;34m\u001b[0m\u001b[0m\n\u001b[0;32m---> 28\u001b[0;31m             \u001b[0mself\u001b[0m\u001b[0;34m.\u001b[0m\u001b[0m_templates\u001b[0m \u001b[0;34m=\u001b[0m \u001b[0msettings\u001b[0m\u001b[0;34m.\u001b[0m\u001b[0mTEMPLATES\u001b[0m\u001b[0;34m\u001b[0m\u001b[0;34m\u001b[0m\u001b[0m\n\u001b[0m\u001b[1;32m     29\u001b[0m \u001b[0;34m\u001b[0m\u001b[0m\n\u001b[1;32m     30\u001b[0m         \u001b[0mtemplates\u001b[0m \u001b[0;34m=\u001b[0m \u001b[0;34m{\u001b[0m\u001b[0;34m}\u001b[0m\u001b[0;34m\u001b[0m\u001b[0;34m\u001b[0m\u001b[0m\n",
      "\u001b[0;32m~/opt/anaconda3/lib/python3.8/site-packages/django/conf/__init__.py\u001b[0m in \u001b[0;36m__getattr__\u001b[0;34m(self, name)\u001b[0m\n\u001b[1;32m     92\u001b[0m             \u001b[0mself\u001b[0m\u001b[0;34m.\u001b[0m\u001b[0m_setup\u001b[0m\u001b[0;34m(\u001b[0m\u001b[0mname\u001b[0m\u001b[0;34m)\u001b[0m\u001b[0;34m\u001b[0m\u001b[0;34m\u001b[0m\u001b[0m\n\u001b[1;32m     93\u001b[0m             \u001b[0m_wrapped\u001b[0m \u001b[0;34m=\u001b[0m \u001b[0mself\u001b[0m\u001b[0;34m.\u001b[0m\u001b[0m_wrapped\u001b[0m\u001b[0;34m\u001b[0m\u001b[0;34m\u001b[0m\u001b[0m\n\u001b[0;32m---> 94\u001b[0;31m         \u001b[0mval\u001b[0m \u001b[0;34m=\u001b[0m \u001b[0mgetattr\u001b[0m\u001b[0;34m(\u001b[0m\u001b[0m_wrapped\u001b[0m\u001b[0;34m,\u001b[0m \u001b[0mname\u001b[0m\u001b[0;34m)\u001b[0m\u001b[0;34m\u001b[0m\u001b[0;34m\u001b[0m\u001b[0m\n\u001b[0m\u001b[1;32m     95\u001b[0m \u001b[0;34m\u001b[0m\u001b[0m\n\u001b[1;32m     96\u001b[0m         \u001b[0;31m# Special case some settings which require further modification.\u001b[0m\u001b[0;34m\u001b[0m\u001b[0;34m\u001b[0m\u001b[0;34m\u001b[0m\u001b[0m\n",
      "\u001b[0;32m~/opt/anaconda3/lib/python3.8/site-packages/django/conf/__init__.py\u001b[0m in \u001b[0;36m__getattr__\u001b[0;34m(self, name)\u001b[0m\n\u001b[1;32m    268\u001b[0m         \u001b[0;32mif\u001b[0m \u001b[0;32mnot\u001b[0m \u001b[0mname\u001b[0m\u001b[0;34m.\u001b[0m\u001b[0misupper\u001b[0m\u001b[0;34m(\u001b[0m\u001b[0;34m)\u001b[0m \u001b[0;32mor\u001b[0m \u001b[0mname\u001b[0m \u001b[0;32min\u001b[0m \u001b[0mself\u001b[0m\u001b[0;34m.\u001b[0m\u001b[0m_deleted\u001b[0m\u001b[0;34m:\u001b[0m\u001b[0;34m\u001b[0m\u001b[0;34m\u001b[0m\u001b[0m\n\u001b[1;32m    269\u001b[0m             \u001b[0;32mraise\u001b[0m \u001b[0mAttributeError\u001b[0m\u001b[0;34m\u001b[0m\u001b[0;34m\u001b[0m\u001b[0m\n\u001b[0;32m--> 270\u001b[0;31m         \u001b[0;32mreturn\u001b[0m \u001b[0mgetattr\u001b[0m\u001b[0;34m(\u001b[0m\u001b[0mself\u001b[0m\u001b[0;34m.\u001b[0m\u001b[0mdefault_settings\u001b[0m\u001b[0;34m,\u001b[0m \u001b[0mname\u001b[0m\u001b[0;34m)\u001b[0m\u001b[0;34m\u001b[0m\u001b[0;34m\u001b[0m\u001b[0m\n\u001b[0m\u001b[1;32m    271\u001b[0m \u001b[0;34m\u001b[0m\u001b[0m\n\u001b[1;32m    272\u001b[0m     \u001b[0;32mdef\u001b[0m \u001b[0m__setattr__\u001b[0m\u001b[0;34m(\u001b[0m\u001b[0mself\u001b[0m\u001b[0;34m,\u001b[0m \u001b[0mname\u001b[0m\u001b[0;34m,\u001b[0m \u001b[0mvalue\u001b[0m\u001b[0;34m)\u001b[0m\u001b[0;34m:\u001b[0m\u001b[0;34m\u001b[0m\u001b[0;34m\u001b[0m\u001b[0m\n",
      "\u001b[0;31mAttributeError\u001b[0m: 'list' object has no attribute 'TEMPLATES'"
     ]
    }
   ],
   "source": [
    "from django.template import Template, Context\n",
    "from django.conf import settings\n",
    " # We have to do this to use django templates standalone - see\n",
    "# http://stackoverflow.com/questions/98135/how-do-i-use-django-templates-without-the-rest-of-django\n",
    "\n",
    "TEMPLATES = [\n",
    "    {\n",
    "        'BACKEND': 'django.template.backends.django.DjangoTemplates',\n",
    "        'APP_DIRS': False,\n",
    "    },\n",
    "]\n",
    "\n",
    "settings.configure(TEMPLATES)\n",
    "\n",
    "\n",
    "\n",
    "\n",
    "# Our template. Could just as easily be stored in a separate file\n",
    "template = \"\"\"\n",
    "<html>\n",
    "<head>\n",
    "\"\"\"\n",
    "\n",
    "\"\"\"\n",
    "<title>Template {{ section title }}</title>\n",
    "</head>\n",
    "\"\"\"\n",
    "\n",
    "\"\"\"\n",
    "<body>\n",
    "Body with {{ mystring }}.\n",
    "{{%if%}}\n",
    "</body>\n",
    "\"\"\"\n",
    "\n",
    "\"\"\"\n",
    "</html>\n",
    "\"\"\"\n",
    "\n",
    "t = Template(template)\n",
    "c = Context({\"title\": \"title from code\",\n",
    "             \"mystring\":\"string from code\"})\n",
    "print(t.render(c))"
   ]
  },
  {
   "cell_type": "code",
   "execution_count": null,
   "id": "8145d9cf-aa5c-4189-812c-b0d1344f347b",
   "metadata": {},
   "outputs": [],
   "source": []
  },
  {
   "cell_type": "markdown",
   "id": "2e110dea-6c7b-445b-9162-40ce97a90c0b",
   "metadata": {},
   "source": [
    "## Generate HTML"
   ]
  },
  {
   "cell_type": "code",
   "execution_count": 10,
   "id": "34e1548e-8e94-4ce0-9c7b-657e259aee42",
   "metadata": {},
   "outputs": [],
   "source": [
    "from lxml import etree\n",
    "\n",
    "root = etree.Element('DOCUMENT')\n",
    "\n",
    "type_node = etree.SubElement(root, 'TYPE')\n",
    "type_node.text = 'EX-2.1'\n",
    "\n",
    "div = etree.SubElement(type_node, 'sequence')\n",
    "div.text = '2'\n",
    "\n",
    "fname = etree.SubElement(div, 'filename')\n",
    "fname.text = 'ex_219664.htm'\n",
    "\n",
    "description = etree.SubElement(fname, 'description')\n",
    "description.text = 'EXHIBIT 2.1'\n",
    "\n",
    "text = etree.SubElement(description, 'text')\n",
    "\n",
    "html = etree.SubElement(text, 'html')\n",
    "\n",
    "head = etree.SubElement(html, 'head')\n",
    "\n",
    "title = etree.SubElement(html, 'title')\n",
    "title.text = 'ex_219664.htm'\n",
    "\n",
    "body = etree.SubElement(html, 'body')\n",
    "\n",
    "p1 = etree.SubElement(body, 'p')\n",
    "p1_f = etree.SubElement(p1, 'font')\n",
    "p1_b = etree.SubElement(p1_f, 'b')\n",
    "p1_b.text = 'AGREEMENT AND PLAN OF MERGER'\n",
    "\n",
    "p2 = etree.SubElement(body, 'p')\n",
    "p2_f = etree.SubElement(p2, 'font')\n",
    "p2_b = etree.SubElement(p2_f, 'b')\n",
    "p2_b.text = 'by and among'\n",
    "\n",
    "\n",
    "\n",
    "html_string = etree.tostring(root, pretty_print=True, method='html').decode('utf-8')"
   ]
  },
  {
   "cell_type": "code",
   "execution_count": 11,
   "id": "3a4a99f0-eff0-47d7-a8d4-3e9374b2e08c",
   "metadata": {},
   "outputs": [
    {
     "name": "stdout",
     "output_type": "stream",
     "text": [
      "<DOCUMENT><TYPE>EX-2.1<sequence>2<filename>ex_219664.htm<description>EXHIBIT 2.1<text><html>\n",
      "<head></head>\n",
      "<title>ex_219664.htm</title>\n",
      "<body>\n",
      "<p><font><b>AGREEMENT AND PLAN OF MERGER</b></font></p>\n",
      "<p><font><b>by and among</b></font></p>\n",
      "</body>\n",
      "</html></text></description></filename></sequence></TYPE></DOCUMENT>\n",
      "\n"
     ]
    }
   ],
   "source": [
    "print(html_string)"
   ]
  },
  {
   "cell_type": "code",
   "execution_count": 12,
   "id": "167f020d-0f5a-4289-8bba-ac9d3bb333ad",
   "metadata": {},
   "outputs": [],
   "source": [
    "feature_extractor = MarkupLMFeatureExtractor()\n",
    "encoding = feature_extractor(html_string)"
   ]
  },
  {
   "cell_type": "code",
   "execution_count": 13,
   "id": "72dfde6d-3e0c-408d-a76f-79c6a113f624",
   "metadata": {},
   "outputs": [
    {
     "data": {
      "text/plain": [
       "[('EX-2.1', '/document/type'),\n",
       " ('2', '/document/type/sequence'),\n",
       " ('ex_219664.htm', '/document/type/sequence/filename'),\n",
       " ('EXHIBIT 2.1', '/document/type/sequence/filename/description'),\n",
       " ('ex_219664.htm',\n",
       "  '/document/type/sequence/filename/description/text/html/title'),\n",
       " ('AGREEMENT AND PLAN OF MERGER',\n",
       "  '/document/type/sequence/filename/description/text/html/body/p[1]/font/b'),\n",
       " ('by and among',\n",
       "  '/document/type/sequence/filename/description/text/html/body/p[2]/font/b')]"
      ]
     },
     "execution_count": 13,
     "metadata": {},
     "output_type": "execute_result"
    }
   ],
   "source": [
    "nodes = encoding['nodes'][0]\n",
    "xpaths = encoding['xpaths'][0]\n",
    "\n",
    "list(zip(nodes, xpaths))"
   ]
  },
  {
   "cell_type": "code",
   "execution_count": null,
   "id": "5de818a1-256a-4c0c-8667-965825728045",
   "metadata": {},
   "outputs": [],
   "source": [
    "[('EX-2.1', '/document/type'),\n",
    " ('2', '/document/type/sequence'),\n",
    " ('ex_219664.htm', '/document/type/sequence/filename'),\n",
    " ('EXHIBIT 2.1', '/document/type/sequence/filename/description'),\n",
    " ('ex_219664.htm',\n",
    "  '/document/type/sequence/filename/description/text/html/head/title'),\n",
    " ('Exhibit 2.1',\n",
    "  '/document/type/sequence/filename/description/text/html/body/p[1]/font/b'),\n",
    " ('AGREEMENT AND PLAN OF MERGER',\n",
    "  '/document/type/sequence/filename/description/text/html/body/p[3]/b'),\n",
    " ('by and among',\n",
    "  '/document/type/sequence/filename/description/text/html/body/p[5]/b'),\n",
    " ('ALASKA COMMUNICATIONS SYSTEMS GROUP, INC.,',\n",
    "  '/document/type/sequence/filename/description/text/html/body/p[7]/b'),\n",
    " ('PROJECT 8 BUYER, LLC,',\n",
    "  '/document/type/sequence/filename/description/text/html/body/p[9]/b'),\n",
    " ('and',\n",
    "  '/document/type/sequence/filename/description/text/html/body/p[11]/b'),\n",
    " ('PROJECT 8 MERGERSUB, INC.',\n",
    "  '/document/type/sequence/filename/description/text/html/body/p[13]/b'),\n",
    " ('December 31, 2020',\n",
    "  '/document/type/sequence/filename/description/text/html/body/p[15]/b'),\n",
    " ('TABLE OF CONTENTS',\n",
    "  '/document/type/sequence/filename/description/text/html/body/p[18]/b'),\n",
    " ('Page',\n",
    "  '/document/type/sequence/filename/description/text/html/body/table[1]/tr[1]/td[3]/b'),\n",
    " ('ARTICLE 1',\n",
    "  '/document/type/sequence/filename/description/text/html/body/table[1]/tr[3]/td[1]/p/b'),\n",
    " ('DEFINITIONS',\n",
    "  '/document/type/sequence/filename/description/text/html/body/table[1]/tr[3]/td[1]/p'),\n",
    " ('1',\n",
    "  '/document/type/sequence/filename/description/text/html/body/table[1]/tr[3]/td[2]/p'),\n",
    " ('Section 1.01',\n",
    "  '/document/type/sequence/filename/description/text/html/body/table[1]/tr[4]/td[1]/p'),\n",
    " ('Definitions',\n",
    "  '/document/type/sequence/filename/description/text/html/body/table[1]/tr[4]/td[2]/p')]"
   ]
  },
  {
   "cell_type": "code",
   "execution_count": null,
   "id": "4f62087d-7fb7-4a48-bca2-8e92a2f24688",
   "metadata": {},
   "outputs": [],
   "source": [
    "tag_list = ['DOCUMENT', 'TYPE', 'SEQUENCE', 'filename', 'description', ]\n",
    "node_list = []"
   ]
  },
  {
   "cell_type": "code",
   "execution_count": 10,
   "id": "e618ae3d-6b41-45a2-96a0-23cf13fe29c0",
   "metadata": {},
   "outputs": [],
   "source": [
    "class Ele(object):\n",
    "    def __init__(self, tag_name, node_text, parent):\n",
    "        self.tag_name = tag_name\n",
    "        self.node_text = node_text\n",
    "        self.parent = parent\n",
    "        \n",
    "    def get_root_tag(self):\n",
    "        \n",
    "        root_tag = self.parent\n",
    "        if not root_tag:\n",
    "            return self\n",
    "        \n",
    "        else:\n",
    "            while root_tag.parent is not None:\n",
    "                root_tag = self.parent.get_root_tag()\n",
    "            \n",
    "            return root_tag\n",
    "        \n",
    "    def add_to_tree(self):\n",
    "        pass\n",
    "    \n",
    "    \n",
    "    def __str__(self):\n",
    "        return f\"Ele(tag_name={self.tag_name}, node_text={self.node_text}, parent={self.parent})\"\n",
    "    \n",
    "    def __repr__(self):\n",
    "        return f\"Ele(tag_name={self.tag_name}, node_text={self.node_text}, parent={self.parent})\"\n",
    "        "
   ]
  },
  {
   "cell_type": "code",
   "execution_count": 11,
   "id": "f2acfe3d-b8ee-425a-a335-73c6130e74a7",
   "metadata": {},
   "outputs": [],
   "source": [
    "e1 = Ele('DOCUMENT', None, None)\n",
    "e2 = Ele('TYPE', 'EX-2.1', e1)"
   ]
  },
  {
   "cell_type": "code",
   "execution_count": 12,
   "id": "f21d30ff-8257-4dbc-83a9-936704d27de2",
   "metadata": {},
   "outputs": [
    {
     "data": {
      "text/plain": [
       "Ele(tag_name=DOCUMENT, node_text=None, parent=None)"
      ]
     },
     "execution_count": 12,
     "metadata": {},
     "output_type": "execute_result"
    }
   ],
   "source": [
    "e1"
   ]
  },
  {
   "cell_type": "code",
   "execution_count": 13,
   "id": "3684e508-880b-4e91-b29f-b401645cc78d",
   "metadata": {},
   "outputs": [
    {
     "data": {
      "text/plain": [
       "Ele(tag_name=DOCUMENT, node_text=None, parent=None)"
      ]
     },
     "execution_count": 13,
     "metadata": {},
     "output_type": "execute_result"
    }
   ],
   "source": [
    "e1.get_root_tag()"
   ]
  },
  {
   "cell_type": "code",
   "execution_count": 14,
   "id": "67aace0b-7e62-4670-90b5-f7bbcc0baf32",
   "metadata": {},
   "outputs": [
    {
     "data": {
      "text/plain": [
       "Ele(tag_name=TYPE, node_text=EX-2.1, parent=Ele(tag_name=DOCUMENT, node_text=None, parent=None))"
      ]
     },
     "execution_count": 14,
     "metadata": {},
     "output_type": "execute_result"
    }
   ],
   "source": [
    "e2 "
   ]
  },
  {
   "cell_type": "code",
   "execution_count": null,
   "id": "c48a6e05-fe36-4e95-91ed-9af0cddfe53c",
   "metadata": {},
   "outputs": [],
   "source": [
    "e2.get_root_tag()"
   ]
  },
  {
   "cell_type": "code",
   "execution_count": null,
   "id": "5040f34d-576d-487f-aac1-c241745fb6bc",
   "metadata": {},
   "outputs": [],
   "source": []
  },
  {
   "cell_type": "code",
   "execution_count": null,
   "id": "eaf45622-0d40-46cf-ada1-eb043036bd3e",
   "metadata": {},
   "outputs": [],
   "source": []
  },
  {
   "cell_type": "code",
   "execution_count": null,
   "id": "7c27c475-dc12-4b3c-a1d8-e59bde59af67",
   "metadata": {},
   "outputs": [],
   "source": []
  },
  {
   "cell_type": "code",
   "execution_count": null,
   "id": "f057c43a-98fa-4377-afcc-ff1a271ef803",
   "metadata": {},
   "outputs": [],
   "source": []
  },
  {
   "cell_type": "code",
   "execution_count": null,
   "id": "823a7d05-a782-4634-9661-f767cb9a526d",
   "metadata": {},
   "outputs": [],
   "source": []
  },
  {
   "cell_type": "code",
   "execution_count": null,
   "id": "2beae86e-439f-43d6-a46d-656d7ce2ed41",
   "metadata": {},
   "outputs": [],
   "source": []
  },
  {
   "cell_type": "code",
   "execution_count": null,
   "id": "6f213dd8-8480-4bac-99f3-2f366ba6a00c",
   "metadata": {},
   "outputs": [],
   "source": []
  },
  {
   "cell_type": "code",
   "execution_count": null,
   "id": "d7ab0a40-a694-4f76-9471-8e3634d8aeb2",
   "metadata": {},
   "outputs": [],
   "source": []
  },
  {
   "cell_type": "code",
   "execution_count": null,
   "id": "640af29e-62d5-4e7b-8f54-d225c59897e2",
   "metadata": {},
   "outputs": [],
   "source": []
  },
  {
   "cell_type": "code",
   "execution_count": null,
   "id": "e935808b-c7cb-47b1-b3f3-0d87b933ecec",
   "metadata": {},
   "outputs": [],
   "source": []
  },
  {
   "cell_type": "code",
   "execution_count": null,
   "id": "9c85d2b9-1514-4d47-8208-1255c7dfb6ac",
   "metadata": {},
   "outputs": [],
   "source": []
  },
  {
   "cell_type": "code",
   "execution_count": null,
   "id": "87295eae-44a0-44b5-9f66-aeddc9163408",
   "metadata": {},
   "outputs": [],
   "source": []
  },
  {
   "cell_type": "code",
   "execution_count": null,
   "id": "d329fd1b-13dd-4308-9da0-ea7fb364add4",
   "metadata": {},
   "outputs": [],
   "source": []
  },
  {
   "cell_type": "code",
   "execution_count": null,
   "id": "c09c8e12-abc7-41c7-82ee-1cdc351f023b",
   "metadata": {},
   "outputs": [],
   "source": [
    "from yattag import Doc"
   ]
  },
  {
   "cell_type": "code",
   "execution_count": null,
   "id": "59f9fd1d-96ee-4d5a-8035-f2b833b8ce35",
   "metadata": {},
   "outputs": [],
   "source": [
    "doc, tag, text = Doc().tagtext()"
   ]
  },
  {
   "cell_type": "code",
   "execution_count": null,
   "id": "eb42ba0e-ec88-4d20-b4b1-7ee6b0b815e9",
   "metadata": {},
   "outputs": [],
   "source": [
    "with tag('DOCUMENT'):\n",
    "    with tag('TYPE'):\n",
    "        text('EX-2.1')\n",
    "        with tag('sequence'):\n",
    "            text('2')\n",
    "            with tag('filename'):\n",
    "                text('ex_219664.htm')\n",
    "                with tag('description'):\n",
    "                    text('EXHIBIT 2.1')\n",
    "                    \n",
    "                    "
   ]
  },
  {
   "cell_type": "code",
   "execution_count": null,
   "id": "1b596431-079e-4a19-941b-cff2a3db20f1",
   "metadata": {},
   "outputs": [],
   "source": [
    "doc.getvalue()"
   ]
  },
  {
   "cell_type": "raw",
   "id": "de3ca4ad-7e3e-4bb9-9749-eaff3df53da3",
   "metadata": {},
   "source": [
    "from contextlib import contextmanager"
   ]
  },
  {
   "cell_type": "raw",
   "id": "c617843f-feb9-4ef8-834e-c648346003da",
   "metadata": {},
   "source": [
    "@contextmanager\n",
    "def append_tag(tag_list, node_list, curr_pointer=None, ):\n",
    "    with tag(tag_list[curr_pointer]):\n",
    "        node_text = node_list[curr_pointer]\n",
    "\n",
    "        if isinstance(node_text, str):\n",
    "            text(node_list[curr_pointer])\n",
    "\n",
    "        while curr_pointer < len(tag_list):\n",
    "            curr_pointer += 1\n",
    "            append_tag(tag_list, curr_pointer) "
   ]
  },
  {
   "cell_type": "raw",
   "id": "678960eb-b41e-4b21-bff1-daf8de2813b5",
   "metadata": {},
   "source": [
    "@contextmanager\n",
    "def append_tag(tag_name):\n",
    "        tag(tag_name)\n",
    "#         node_text = node_list[curr_pointer]\n",
    "\n",
    "#         if isinstance(node_text, str):\n",
    "#             text(node_list[curr_pointer])\n",
    "\n",
    "#         while curr_pointer < len(tag_list):\n",
    "#             curr_pointer += 1\n",
    "#             append_tag(tag_list, curr_pointer) "
   ]
  },
  {
   "cell_type": "raw",
   "id": "c42d5a07-4f56-44e2-86ed-c90c34ae50da",
   "metadata": {},
   "source": [
    "with tag('Document'), tag('sequence'):\n",
    "    text('example')"
   ]
  },
  {
   "cell_type": "raw",
   "id": "bd7613e0-33ea-42c2-870f-e78d3a32209c",
   "metadata": {},
   "source": [
    "tag_list = ['document', 'type', 'sequence']\n",
    "node_list = [None, 'EX-2.1', '2']"
   ]
  },
  {
   "cell_type": "code",
   "execution_count": null,
   "id": "7e24294a-d766-476f-991f-faac54448333",
   "metadata": {},
   "outputs": [],
   "source": [
    "feature_extractor2 = MarkupLMFeatureExtractor()\n",
    "encoding2 = feature_extractor2(html_string)"
   ]
  },
  {
   "cell_type": "code",
   "execution_count": null,
   "id": "0478c569-f46e-4e8e-9168-5632be09b84d",
   "metadata": {},
   "outputs": [],
   "source": [
    "encoding2"
   ]
  },
  {
   "cell_type": "code",
   "execution_count": null,
   "id": "879ef7a8-2f88-4c8e-aaf3-24772a6a4bc7",
   "metadata": {},
   "outputs": [],
   "source": [
    "nodes, xpaths = encoding2['nodes'][0], encoding['xpaths'][0]"
   ]
  },
  {
   "cell_type": "code",
   "execution_count": null,
   "id": "9228933c-868a-4019-87cd-abfeeefe5949",
   "metadata": {
    "tags": []
   },
   "outputs": [],
   "source": [
    "list(zip(nodes, xpaths))"
   ]
  },
  {
   "cell_type": "code",
   "execution_count": null,
   "id": "2e5990e8-f722-4b63-8b4a-9f81fa1da151",
   "metadata": {
    "tags": []
   },
   "outputs": [],
   "source": [
    "processor2 = AutoProcessor.from_pretrained(\"microsoft/markuplm-base\", truncation=True)\n",
    "processor2.parse_html = True\n",
    "\n",
    "encoding2 = processor2(html_string, return_tensors=\"pt\")\n",
    "encoding2"
   ]
  },
  {
   "cell_type": "code",
   "execution_count": null,
   "id": "2165cf79-72e0-4feb-a70e-62b9afd9a319",
   "metadata": {},
   "outputs": [],
   "source": [
    "start_node_idx2 = 0\n",
    "end_node_idx2 = 200"
   ]
  },
  {
   "cell_type": "code",
   "execution_count": null,
   "id": "1df1cdcf-879c-4201-a82f-61fc5ee6d432",
   "metadata": {},
   "outputs": [],
   "source": [
    "\n",
    "nodes2 = encoding2['nodes'][0][start_node_idx2: end_node_idx2]\n",
    "xpaths2 = encoding2['xpaths'][0][start_node_idx2: end_node_idx2]\n",
    "#xpaths = [x[49:] for x in xpaths]\n",
    "# print(\"###################################################\")\n",
    "# print(xpaths)\n",
    "# print(\"###################################################\")\n",
    "enc2 = processor(nodes=nodes2, xpaths=xpaths2, return_tensors=\"pt\").to(device)"
   ]
  }
 ],
 "metadata": {
  "kernelspec": {
   "display_name": "Python 3",
   "language": "python",
   "name": "python3"
  },
  "language_info": {
   "codemirror_mode": {
    "name": "ipython",
    "version": 3
   },
   "file_extension": ".py",
   "mimetype": "text/x-python",
   "name": "python",
   "nbconvert_exporter": "python",
   "pygments_lexer": "ipython3",
   "version": "3.8.8"
  }
 },
 "nbformat": 4,
 "nbformat_minor": 5
}
